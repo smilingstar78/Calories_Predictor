{
 "cells": [
  {
   "cell_type": "code",
   "execution_count": 1,
   "id": "0d17067d",
   "metadata": {
    "_cell_guid": "b1076dfc-b9ad-4769-8c92-a6c4dae69d19",
    "_uuid": "8f2839f25d086af736a60e9eeb907d3b93b6e0e5",
    "execution": {
     "iopub.execute_input": "2025-06-21T17:15:26.381209Z",
     "iopub.status.busy": "2025-06-21T17:15:26.380783Z",
     "iopub.status.idle": "2025-06-21T17:15:28.272660Z",
     "shell.execute_reply": "2025-06-21T17:15:28.271860Z"
    },
    "papermill": {
     "duration": 1.900984,
     "end_time": "2025-06-21T17:15:28.274300",
     "exception": false,
     "start_time": "2025-06-21T17:15:26.373316",
     "status": "completed"
    },
    "tags": []
   },
   "outputs": [],
   "source": [
    "import pandas as pd"
   ]
  },
  {
   "cell_type": "code",
   "execution_count": 2,
   "id": "b2c6d709",
   "metadata": {
    "execution": {
     "iopub.execute_input": "2025-06-21T17:15:28.287069Z",
     "iopub.status.busy": "2025-06-21T17:15:28.286082Z",
     "iopub.status.idle": "2025-06-21T17:15:28.339551Z",
     "shell.execute_reply": "2025-06-21T17:15:28.338663Z"
    },
    "papermill": {
     "duration": 0.061106,
     "end_time": "2025-06-21T17:15:28.341103",
     "exception": false,
     "start_time": "2025-06-21T17:15:28.279997",
     "status": "completed"
    },
    "tags": []
   },
   "outputs": [],
   "source": [
    "df = pd.read_csv('/kaggle/input/calories-burnt-prediction/calories.csv')"
   ]
  },
  {
   "cell_type": "code",
   "execution_count": 3,
   "id": "87e0c7da",
   "metadata": {
    "execution": {
     "iopub.execute_input": "2025-06-21T17:15:28.353004Z",
     "iopub.status.busy": "2025-06-21T17:15:28.352718Z",
     "iopub.status.idle": "2025-06-21T17:15:28.380508Z",
     "shell.execute_reply": "2025-06-21T17:15:28.379640Z"
    },
    "papermill": {
     "duration": 0.035516,
     "end_time": "2025-06-21T17:15:28.382117",
     "exception": false,
     "start_time": "2025-06-21T17:15:28.346601",
     "status": "completed"
    },
    "tags": []
   },
   "outputs": [
    {
     "data": {
      "text/html": [
       "<div>\n",
       "<style scoped>\n",
       "    .dataframe tbody tr th:only-of-type {\n",
       "        vertical-align: middle;\n",
       "    }\n",
       "\n",
       "    .dataframe tbody tr th {\n",
       "        vertical-align: top;\n",
       "    }\n",
       "\n",
       "    .dataframe thead th {\n",
       "        text-align: right;\n",
       "    }\n",
       "</style>\n",
       "<table border=\"1\" class=\"dataframe\">\n",
       "  <thead>\n",
       "    <tr style=\"text-align: right;\">\n",
       "      <th></th>\n",
       "      <th>User_ID</th>\n",
       "      <th>Gender</th>\n",
       "      <th>Age</th>\n",
       "      <th>Height</th>\n",
       "      <th>Weight</th>\n",
       "      <th>Duration</th>\n",
       "      <th>Heart_Rate</th>\n",
       "      <th>Body_Temp</th>\n",
       "      <th>Calories</th>\n",
       "    </tr>\n",
       "  </thead>\n",
       "  <tbody>\n",
       "    <tr>\n",
       "      <th>0</th>\n",
       "      <td>14733363</td>\n",
       "      <td>male</td>\n",
       "      <td>68</td>\n",
       "      <td>190.0</td>\n",
       "      <td>94.0</td>\n",
       "      <td>29.0</td>\n",
       "      <td>105.0</td>\n",
       "      <td>40.8</td>\n",
       "      <td>231.0</td>\n",
       "    </tr>\n",
       "    <tr>\n",
       "      <th>1</th>\n",
       "      <td>14861698</td>\n",
       "      <td>female</td>\n",
       "      <td>20</td>\n",
       "      <td>166.0</td>\n",
       "      <td>60.0</td>\n",
       "      <td>14.0</td>\n",
       "      <td>94.0</td>\n",
       "      <td>40.3</td>\n",
       "      <td>66.0</td>\n",
       "    </tr>\n",
       "    <tr>\n",
       "      <th>2</th>\n",
       "      <td>11179863</td>\n",
       "      <td>male</td>\n",
       "      <td>69</td>\n",
       "      <td>179.0</td>\n",
       "      <td>79.0</td>\n",
       "      <td>5.0</td>\n",
       "      <td>88.0</td>\n",
       "      <td>38.7</td>\n",
       "      <td>26.0</td>\n",
       "    </tr>\n",
       "    <tr>\n",
       "      <th>3</th>\n",
       "      <td>16180408</td>\n",
       "      <td>female</td>\n",
       "      <td>34</td>\n",
       "      <td>179.0</td>\n",
       "      <td>71.0</td>\n",
       "      <td>13.0</td>\n",
       "      <td>100.0</td>\n",
       "      <td>40.5</td>\n",
       "      <td>71.0</td>\n",
       "    </tr>\n",
       "    <tr>\n",
       "      <th>4</th>\n",
       "      <td>17771927</td>\n",
       "      <td>female</td>\n",
       "      <td>27</td>\n",
       "      <td>154.0</td>\n",
       "      <td>58.0</td>\n",
       "      <td>10.0</td>\n",
       "      <td>81.0</td>\n",
       "      <td>39.8</td>\n",
       "      <td>35.0</td>\n",
       "    </tr>\n",
       "  </tbody>\n",
       "</table>\n",
       "</div>"
      ],
      "text/plain": [
       "    User_ID  Gender  Age  Height  Weight  Duration  Heart_Rate  Body_Temp  \\\n",
       "0  14733363    male   68   190.0    94.0      29.0       105.0       40.8   \n",
       "1  14861698  female   20   166.0    60.0      14.0        94.0       40.3   \n",
       "2  11179863    male   69   179.0    79.0       5.0        88.0       38.7   \n",
       "3  16180408  female   34   179.0    71.0      13.0       100.0       40.5   \n",
       "4  17771927  female   27   154.0    58.0      10.0        81.0       39.8   \n",
       "\n",
       "   Calories  \n",
       "0     231.0  \n",
       "1      66.0  \n",
       "2      26.0  \n",
       "3      71.0  \n",
       "4      35.0  "
      ]
     },
     "execution_count": 3,
     "metadata": {},
     "output_type": "execute_result"
    }
   ],
   "source": [
    "df.head()"
   ]
  },
  {
   "cell_type": "code",
   "execution_count": 4,
   "id": "6b02d2f8",
   "metadata": {
    "execution": {
     "iopub.execute_input": "2025-06-21T17:15:28.394836Z",
     "iopub.status.busy": "2025-06-21T17:15:28.394056Z",
     "iopub.status.idle": "2025-06-21T17:15:29.943546Z",
     "shell.execute_reply": "2025-06-21T17:15:29.942658Z"
    },
    "papermill": {
     "duration": 1.557332,
     "end_time": "2025-06-21T17:15:29.945098",
     "exception": false,
     "start_time": "2025-06-21T17:15:28.387766",
     "status": "completed"
    },
    "tags": []
   },
   "outputs": [],
   "source": [
    "from sklearn.model_selection import train_test_split"
   ]
  },
  {
   "cell_type": "code",
   "execution_count": 5,
   "id": "abae6694",
   "metadata": {
    "execution": {
     "iopub.execute_input": "2025-06-21T17:15:29.957553Z",
     "iopub.status.busy": "2025-06-21T17:15:29.957097Z",
     "iopub.status.idle": "2025-06-21T17:15:29.978464Z",
     "shell.execute_reply": "2025-06-21T17:15:29.977542Z"
    },
    "papermill": {
     "duration": 0.029285,
     "end_time": "2025-06-21T17:15:29.980044",
     "exception": false,
     "start_time": "2025-06-21T17:15:29.950759",
     "status": "completed"
    },
    "tags": []
   },
   "outputs": [],
   "source": [
    "X_train, X_test, y_train, y_test = train_test_split(df.drop(['Calories'], axis=1),\n",
    "                                                   df['Calories'],\n",
    "                                                   test_size=0.2, random_state=2)"
   ]
  },
  {
   "cell_type": "code",
   "execution_count": 6,
   "id": "cefff050",
   "metadata": {
    "execution": {
     "iopub.execute_input": "2025-06-21T17:15:29.992034Z",
     "iopub.status.busy": "2025-06-21T17:15:29.991721Z",
     "iopub.status.idle": "2025-06-21T17:15:30.004130Z",
     "shell.execute_reply": "2025-06-21T17:15:30.003390Z"
    },
    "papermill": {
     "duration": 0.019901,
     "end_time": "2025-06-21T17:15:30.005464",
     "exception": false,
     "start_time": "2025-06-21T17:15:29.985563",
     "status": "completed"
    },
    "tags": []
   },
   "outputs": [
    {
     "data": {
      "text/html": [
       "<div>\n",
       "<style scoped>\n",
       "    .dataframe tbody tr th:only-of-type {\n",
       "        vertical-align: middle;\n",
       "    }\n",
       "\n",
       "    .dataframe tbody tr th {\n",
       "        vertical-align: top;\n",
       "    }\n",
       "\n",
       "    .dataframe thead th {\n",
       "        text-align: right;\n",
       "    }\n",
       "</style>\n",
       "<table border=\"1\" class=\"dataframe\">\n",
       "  <thead>\n",
       "    <tr style=\"text-align: right;\">\n",
       "      <th></th>\n",
       "      <th>User_ID</th>\n",
       "      <th>Gender</th>\n",
       "      <th>Age</th>\n",
       "      <th>Height</th>\n",
       "      <th>Weight</th>\n",
       "      <th>Duration</th>\n",
       "      <th>Heart_Rate</th>\n",
       "      <th>Body_Temp</th>\n",
       "    </tr>\n",
       "  </thead>\n",
       "  <tbody>\n",
       "    <tr>\n",
       "      <th>1154</th>\n",
       "      <td>12142970</td>\n",
       "      <td>female</td>\n",
       "      <td>38</td>\n",
       "      <td>169.0</td>\n",
       "      <td>67.0</td>\n",
       "      <td>3.0</td>\n",
       "      <td>85.0</td>\n",
       "      <td>38.5</td>\n",
       "    </tr>\n",
       "    <tr>\n",
       "      <th>9804</th>\n",
       "      <td>19224502</td>\n",
       "      <td>male</td>\n",
       "      <td>30</td>\n",
       "      <td>194.0</td>\n",
       "      <td>96.0</td>\n",
       "      <td>9.0</td>\n",
       "      <td>91.0</td>\n",
       "      <td>39.6</td>\n",
       "    </tr>\n",
       "    <tr>\n",
       "      <th>7919</th>\n",
       "      <td>17928104</td>\n",
       "      <td>female</td>\n",
       "      <td>78</td>\n",
       "      <td>182.0</td>\n",
       "      <td>79.0</td>\n",
       "      <td>7.0</td>\n",
       "      <td>84.0</td>\n",
       "      <td>39.4</td>\n",
       "    </tr>\n",
       "    <tr>\n",
       "      <th>4854</th>\n",
       "      <td>17546508</td>\n",
       "      <td>male</td>\n",
       "      <td>50</td>\n",
       "      <td>171.0</td>\n",
       "      <td>77.0</td>\n",
       "      <td>29.0</td>\n",
       "      <td>111.0</td>\n",
       "      <td>40.8</td>\n",
       "    </tr>\n",
       "    <tr>\n",
       "      <th>5947</th>\n",
       "      <td>15751869</td>\n",
       "      <td>female</td>\n",
       "      <td>32</td>\n",
       "      <td>172.0</td>\n",
       "      <td>66.0</td>\n",
       "      <td>29.0</td>\n",
       "      <td>105.0</td>\n",
       "      <td>40.8</td>\n",
       "    </tr>\n",
       "  </tbody>\n",
       "</table>\n",
       "</div>"
      ],
      "text/plain": [
       "       User_ID  Gender  Age  Height  Weight  Duration  Heart_Rate  Body_Temp\n",
       "1154  12142970  female   38   169.0    67.0       3.0        85.0       38.5\n",
       "9804  19224502    male   30   194.0    96.0       9.0        91.0       39.6\n",
       "7919  17928104  female   78   182.0    79.0       7.0        84.0       39.4\n",
       "4854  17546508    male   50   171.0    77.0      29.0       111.0       40.8\n",
       "5947  15751869  female   32   172.0    66.0      29.0       105.0       40.8"
      ]
     },
     "execution_count": 6,
     "metadata": {},
     "output_type": "execute_result"
    }
   ],
   "source": [
    "X_train.head()"
   ]
  },
  {
   "cell_type": "code",
   "execution_count": 7,
   "id": "6f8ffd9d",
   "metadata": {
    "execution": {
     "iopub.execute_input": "2025-06-21T17:15:30.018372Z",
     "iopub.status.busy": "2025-06-21T17:15:30.017616Z",
     "iopub.status.idle": "2025-06-21T17:15:30.021588Z",
     "shell.execute_reply": "2025-06-21T17:15:30.020917Z"
    },
    "papermill": {
     "duration": 0.011676,
     "end_time": "2025-06-21T17:15:30.022862",
     "exception": false,
     "start_time": "2025-06-21T17:15:30.011186",
     "status": "completed"
    },
    "tags": []
   },
   "outputs": [],
   "source": [
    "from sklearn.preprocessing import OneHotEncoder"
   ]
  },
  {
   "cell_type": "code",
   "execution_count": 8,
   "id": "ef7e6fba",
   "metadata": {
    "execution": {
     "iopub.execute_input": "2025-06-21T17:15:30.035976Z",
     "iopub.status.busy": "2025-06-21T17:15:30.035177Z",
     "iopub.status.idle": "2025-06-21T17:15:30.039507Z",
     "shell.execute_reply": "2025-06-21T17:15:30.038616Z"
    },
    "papermill": {
     "duration": 0.012484,
     "end_time": "2025-06-21T17:15:30.041031",
     "exception": false,
     "start_time": "2025-06-21T17:15:30.028547",
     "status": "completed"
    },
    "tags": []
   },
   "outputs": [],
   "source": [
    "ohe = OneHotEncoder(sparse_output = False, handle_unknown='ignore')"
   ]
  },
  {
   "cell_type": "code",
   "execution_count": 9,
   "id": "e1bd2a7e",
   "metadata": {
    "execution": {
     "iopub.execute_input": "2025-06-21T17:15:30.053590Z",
     "iopub.status.busy": "2025-06-21T17:15:30.053269Z",
     "iopub.status.idle": "2025-06-21T17:15:30.065479Z",
     "shell.execute_reply": "2025-06-21T17:15:30.064768Z"
    },
    "papermill": {
     "duration": 0.02023,
     "end_time": "2025-06-21T17:15:30.066965",
     "exception": false,
     "start_time": "2025-06-21T17:15:30.046735",
     "status": "completed"
    },
    "tags": []
   },
   "outputs": [],
   "source": [
    "X_train_ohe = ohe.fit_transform(X_train[['Gender']])"
   ]
  },
  {
   "cell_type": "code",
   "execution_count": 10,
   "id": "d7b22997",
   "metadata": {
    "execution": {
     "iopub.execute_input": "2025-06-21T17:15:30.079410Z",
     "iopub.status.busy": "2025-06-21T17:15:30.079065Z",
     "iopub.status.idle": "2025-06-21T17:15:30.085642Z",
     "shell.execute_reply": "2025-06-21T17:15:30.084925Z"
    },
    "papermill": {
     "duration": 0.014186,
     "end_time": "2025-06-21T17:15:30.086910",
     "exception": false,
     "start_time": "2025-06-21T17:15:30.072724",
     "status": "completed"
    },
    "tags": []
   },
   "outputs": [],
   "source": [
    "X_test_ohe = ohe.transform(X_test[['Gender']])"
   ]
  },
  {
   "cell_type": "code",
   "execution_count": 11,
   "id": "355d210b",
   "metadata": {
    "execution": {
     "iopub.execute_input": "2025-06-21T17:15:30.099985Z",
     "iopub.status.busy": "2025-06-21T17:15:30.099657Z",
     "iopub.status.idle": "2025-06-21T17:15:30.104395Z",
     "shell.execute_reply": "2025-06-21T17:15:30.103502Z"
    },
    "papermill": {
     "duration": 0.012784,
     "end_time": "2025-06-21T17:15:30.105882",
     "exception": false,
     "start_time": "2025-06-21T17:15:30.093098",
     "status": "completed"
    },
    "tags": []
   },
   "outputs": [],
   "source": [
    "encoded_df = pd.DataFrame(\n",
    "    X_train_ohe,\n",
    "    columns=ohe.get_feature_names_out(['Gender']),\n",
    "    index=X_train.index\n",
    ")"
   ]
  },
  {
   "cell_type": "code",
   "execution_count": 12,
   "id": "7086e86d",
   "metadata": {
    "execution": {
     "iopub.execute_input": "2025-06-21T17:15:30.118580Z",
     "iopub.status.busy": "2025-06-21T17:15:30.117861Z",
     "iopub.status.idle": "2025-06-21T17:15:30.125248Z",
     "shell.execute_reply": "2025-06-21T17:15:30.124383Z"
    },
    "papermill": {
     "duration": 0.015179,
     "end_time": "2025-06-21T17:15:30.126632",
     "exception": false,
     "start_time": "2025-06-21T17:15:30.111453",
     "status": "completed"
    },
    "tags": []
   },
   "outputs": [],
   "source": [
    "X_train = pd.concat([X_train.drop('Gender', axis=1), encoded_df], axis=1)"
   ]
  },
  {
   "cell_type": "code",
   "execution_count": 13,
   "id": "39e3f8e6",
   "metadata": {
    "execution": {
     "iopub.execute_input": "2025-06-21T17:15:30.139014Z",
     "iopub.status.busy": "2025-06-21T17:15:30.138677Z",
     "iopub.status.idle": "2025-06-21T17:15:30.143401Z",
     "shell.execute_reply": "2025-06-21T17:15:30.142429Z"
    },
    "papermill": {
     "duration": 0.012809,
     "end_time": "2025-06-21T17:15:30.144925",
     "exception": false,
     "start_time": "2025-06-21T17:15:30.132116",
     "status": "completed"
    },
    "tags": []
   },
   "outputs": [],
   "source": [
    "encoded_df1 = pd.DataFrame(\n",
    "    X_test_ohe,\n",
    "    columns=ohe.get_feature_names_out(['Gender']),\n",
    "    index=X_test.index\n",
    ")"
   ]
  },
  {
   "cell_type": "code",
   "execution_count": 14,
   "id": "677cabb1",
   "metadata": {
    "execution": {
     "iopub.execute_input": "2025-06-21T17:15:30.157695Z",
     "iopub.status.busy": "2025-06-21T17:15:30.157381Z",
     "iopub.status.idle": "2025-06-21T17:15:30.163351Z",
     "shell.execute_reply": "2025-06-21T17:15:30.162548Z"
    },
    "papermill": {
     "duration": 0.013957,
     "end_time": "2025-06-21T17:15:30.164739",
     "exception": false,
     "start_time": "2025-06-21T17:15:30.150782",
     "status": "completed"
    },
    "tags": []
   },
   "outputs": [],
   "source": [
    "X_test = pd.concat([X_test.drop('Gender', axis=1), encoded_df1], axis=1)"
   ]
  },
  {
   "cell_type": "code",
   "execution_count": 15,
   "id": "ed74de31",
   "metadata": {
    "execution": {
     "iopub.execute_input": "2025-06-21T17:15:30.177721Z",
     "iopub.status.busy": "2025-06-21T17:15:30.177404Z",
     "iopub.status.idle": "2025-06-21T17:15:30.181381Z",
     "shell.execute_reply": "2025-06-21T17:15:30.180640Z"
    },
    "papermill": {
     "duration": 0.011954,
     "end_time": "2025-06-21T17:15:30.182754",
     "exception": false,
     "start_time": "2025-06-21T17:15:30.170800",
     "status": "completed"
    },
    "tags": []
   },
   "outputs": [],
   "source": [
    "from sklearn.preprocessing import StandardScaler"
   ]
  },
  {
   "cell_type": "code",
   "execution_count": 16,
   "id": "62f30715",
   "metadata": {
    "execution": {
     "iopub.execute_input": "2025-06-21T17:15:30.195417Z",
     "iopub.status.busy": "2025-06-21T17:15:30.194691Z",
     "iopub.status.idle": "2025-06-21T17:15:30.198595Z",
     "shell.execute_reply": "2025-06-21T17:15:30.197900Z"
    },
    "papermill": {
     "duration": 0.011611,
     "end_time": "2025-06-21T17:15:30.199889",
     "exception": false,
     "start_time": "2025-06-21T17:15:30.188278",
     "status": "completed"
    },
    "tags": []
   },
   "outputs": [],
   "source": [
    "scaler = StandardScaler()"
   ]
  },
  {
   "cell_type": "code",
   "execution_count": 17,
   "id": "9a22c95e",
   "metadata": {
    "execution": {
     "iopub.execute_input": "2025-06-21T17:15:30.212340Z",
     "iopub.status.busy": "2025-06-21T17:15:30.211814Z",
     "iopub.status.idle": "2025-06-21T17:15:30.236517Z",
     "shell.execute_reply": "2025-06-21T17:15:30.235725Z"
    },
    "papermill": {
     "duration": 0.032548,
     "end_time": "2025-06-21T17:15:30.238078",
     "exception": false,
     "start_time": "2025-06-21T17:15:30.205530",
     "status": "completed"
    },
    "tags": []
   },
   "outputs": [],
   "source": [
    "X_train_scaled = scaler.fit_transform(X_train)"
   ]
  },
  {
   "cell_type": "code",
   "execution_count": 18,
   "id": "60ad1feb",
   "metadata": {
    "execution": {
     "iopub.execute_input": "2025-06-21T17:15:30.251312Z",
     "iopub.status.busy": "2025-06-21T17:15:30.250935Z",
     "iopub.status.idle": "2025-06-21T17:15:30.260648Z",
     "shell.execute_reply": "2025-06-21T17:15:30.259980Z"
    },
    "papermill": {
     "duration": 0.018177,
     "end_time": "2025-06-21T17:15:30.262069",
     "exception": false,
     "start_time": "2025-06-21T17:15:30.243892",
     "status": "completed"
    },
    "tags": []
   },
   "outputs": [],
   "source": [
    "X_test_scaled = scaler.fit_transform(X_test)"
   ]
  },
  {
   "cell_type": "code",
   "execution_count": 19,
   "id": "2b176359",
   "metadata": {
    "execution": {
     "iopub.execute_input": "2025-06-21T17:15:30.274797Z",
     "iopub.status.busy": "2025-06-21T17:15:30.274010Z",
     "iopub.status.idle": "2025-06-21T17:15:30.404078Z",
     "shell.execute_reply": "2025-06-21T17:15:30.403178Z"
    },
    "papermill": {
     "duration": 0.138128,
     "end_time": "2025-06-21T17:15:30.405789",
     "exception": false,
     "start_time": "2025-06-21T17:15:30.267661",
     "status": "completed"
    },
    "tags": []
   },
   "outputs": [],
   "source": [
    "from sklearn.linear_model import SGDRegressor"
   ]
  },
  {
   "cell_type": "code",
   "execution_count": 20,
   "id": "aeb4acdb",
   "metadata": {
    "execution": {
     "iopub.execute_input": "2025-06-21T17:15:30.418926Z",
     "iopub.status.busy": "2025-06-21T17:15:30.418051Z",
     "iopub.status.idle": "2025-06-21T17:15:30.422974Z",
     "shell.execute_reply": "2025-06-21T17:15:30.421948Z"
    },
    "papermill": {
     "duration": 0.012894,
     "end_time": "2025-06-21T17:15:30.424522",
     "exception": false,
     "start_time": "2025-06-21T17:15:30.411628",
     "status": "completed"
    },
    "tags": []
   },
   "outputs": [],
   "source": [
    "sgd = SGDRegressor(learning_rate='constant', eta0=0.1,max_iter=1000, penalty='l1', random_state=2)"
   ]
  },
  {
   "cell_type": "code",
   "execution_count": 21,
   "id": "06008612",
   "metadata": {
    "execution": {
     "iopub.execute_input": "2025-06-21T17:15:30.437602Z",
     "iopub.status.busy": "2025-06-21T17:15:30.436959Z",
     "iopub.status.idle": "2025-06-21T17:15:30.485704Z",
     "shell.execute_reply": "2025-06-21T17:15:30.484882Z"
    },
    "papermill": {
     "duration": 0.056583,
     "end_time": "2025-06-21T17:15:30.486968",
     "exception": false,
     "start_time": "2025-06-21T17:15:30.430385",
     "status": "completed"
    },
    "tags": []
   },
   "outputs": [
    {
     "data": {
      "text/html": [
       "<style>#sk-container-id-1 {color: black;background-color: white;}#sk-container-id-1 pre{padding: 0;}#sk-container-id-1 div.sk-toggleable {background-color: white;}#sk-container-id-1 label.sk-toggleable__label {cursor: pointer;display: block;width: 100%;margin-bottom: 0;padding: 0.3em;box-sizing: border-box;text-align: center;}#sk-container-id-1 label.sk-toggleable__label-arrow:before {content: \"▸\";float: left;margin-right: 0.25em;color: #696969;}#sk-container-id-1 label.sk-toggleable__label-arrow:hover:before {color: black;}#sk-container-id-1 div.sk-estimator:hover label.sk-toggleable__label-arrow:before {color: black;}#sk-container-id-1 div.sk-toggleable__content {max-height: 0;max-width: 0;overflow: hidden;text-align: left;background-color: #f0f8ff;}#sk-container-id-1 div.sk-toggleable__content pre {margin: 0.2em;color: black;border-radius: 0.25em;background-color: #f0f8ff;}#sk-container-id-1 input.sk-toggleable__control:checked~div.sk-toggleable__content {max-height: 200px;max-width: 100%;overflow: auto;}#sk-container-id-1 input.sk-toggleable__control:checked~label.sk-toggleable__label-arrow:before {content: \"▾\";}#sk-container-id-1 div.sk-estimator input.sk-toggleable__control:checked~label.sk-toggleable__label {background-color: #d4ebff;}#sk-container-id-1 div.sk-label input.sk-toggleable__control:checked~label.sk-toggleable__label {background-color: #d4ebff;}#sk-container-id-1 input.sk-hidden--visually {border: 0;clip: rect(1px 1px 1px 1px);clip: rect(1px, 1px, 1px, 1px);height: 1px;margin: -1px;overflow: hidden;padding: 0;position: absolute;width: 1px;}#sk-container-id-1 div.sk-estimator {font-family: monospace;background-color: #f0f8ff;border: 1px dotted black;border-radius: 0.25em;box-sizing: border-box;margin-bottom: 0.5em;}#sk-container-id-1 div.sk-estimator:hover {background-color: #d4ebff;}#sk-container-id-1 div.sk-parallel-item::after {content: \"\";width: 100%;border-bottom: 1px solid gray;flex-grow: 1;}#sk-container-id-1 div.sk-label:hover label.sk-toggleable__label {background-color: #d4ebff;}#sk-container-id-1 div.sk-serial::before {content: \"\";position: absolute;border-left: 1px solid gray;box-sizing: border-box;top: 0;bottom: 0;left: 50%;z-index: 0;}#sk-container-id-1 div.sk-serial {display: flex;flex-direction: column;align-items: center;background-color: white;padding-right: 0.2em;padding-left: 0.2em;position: relative;}#sk-container-id-1 div.sk-item {position: relative;z-index: 1;}#sk-container-id-1 div.sk-parallel {display: flex;align-items: stretch;justify-content: center;background-color: white;position: relative;}#sk-container-id-1 div.sk-item::before, #sk-container-id-1 div.sk-parallel-item::before {content: \"\";position: absolute;border-left: 1px solid gray;box-sizing: border-box;top: 0;bottom: 0;left: 50%;z-index: -1;}#sk-container-id-1 div.sk-parallel-item {display: flex;flex-direction: column;z-index: 1;position: relative;background-color: white;}#sk-container-id-1 div.sk-parallel-item:first-child::after {align-self: flex-end;width: 50%;}#sk-container-id-1 div.sk-parallel-item:last-child::after {align-self: flex-start;width: 50%;}#sk-container-id-1 div.sk-parallel-item:only-child::after {width: 0;}#sk-container-id-1 div.sk-dashed-wrapped {border: 1px dashed gray;margin: 0 0.4em 0.5em 0.4em;box-sizing: border-box;padding-bottom: 0.4em;background-color: white;}#sk-container-id-1 div.sk-label label {font-family: monospace;font-weight: bold;display: inline-block;line-height: 1.2em;}#sk-container-id-1 div.sk-label-container {text-align: center;}#sk-container-id-1 div.sk-container {/* jupyter's `normalize.less` sets `[hidden] { display: none; }` but bootstrap.min.css set `[hidden] { display: none !important; }` so we also need the `!important` here to be able to override the default hidden behavior on the sphinx rendered scikit-learn.org. See: https://github.com/scikit-learn/scikit-learn/issues/21755 */display: inline-block !important;position: relative;}#sk-container-id-1 div.sk-text-repr-fallback {display: none;}</style><div id=\"sk-container-id-1\" class=\"sk-top-container\"><div class=\"sk-text-repr-fallback\"><pre>SGDRegressor(eta0=0.1, learning_rate=&#x27;constant&#x27;, penalty=&#x27;l1&#x27;, random_state=2)</pre><b>In a Jupyter environment, please rerun this cell to show the HTML representation or trust the notebook. <br />On GitHub, the HTML representation is unable to render, please try loading this page with nbviewer.org.</b></div><div class=\"sk-container\" hidden><div class=\"sk-item\"><div class=\"sk-estimator sk-toggleable\"><input class=\"sk-toggleable__control sk-hidden--visually\" id=\"sk-estimator-id-1\" type=\"checkbox\" checked><label for=\"sk-estimator-id-1\" class=\"sk-toggleable__label sk-toggleable__label-arrow\">SGDRegressor</label><div class=\"sk-toggleable__content\"><pre>SGDRegressor(eta0=0.1, learning_rate=&#x27;constant&#x27;, penalty=&#x27;l1&#x27;, random_state=2)</pre></div></div></div></div></div>"
      ],
      "text/plain": [
       "SGDRegressor(eta0=0.1, learning_rate='constant', penalty='l1', random_state=2)"
      ]
     },
     "execution_count": 21,
     "metadata": {},
     "output_type": "execute_result"
    }
   ],
   "source": [
    "sgd.fit(X_train_scaled, y_train)"
   ]
  },
  {
   "cell_type": "code",
   "execution_count": 22,
   "id": "439f538f",
   "metadata": {
    "execution": {
     "iopub.execute_input": "2025-06-21T17:15:30.500335Z",
     "iopub.status.busy": "2025-06-21T17:15:30.499422Z",
     "iopub.status.idle": "2025-06-21T17:15:30.508973Z",
     "shell.execute_reply": "2025-06-21T17:15:30.508207Z"
    },
    "papermill": {
     "duration": 0.017812,
     "end_time": "2025-06-21T17:15:30.510632",
     "exception": false,
     "start_time": "2025-06-21T17:15:30.492820",
     "status": "completed"
    },
    "tags": []
   },
   "outputs": [],
   "source": [
    "y_pred = sgd.predict(X_test_scaled)"
   ]
  },
  {
   "cell_type": "code",
   "execution_count": 23,
   "id": "27c5c758",
   "metadata": {
    "execution": {
     "iopub.execute_input": "2025-06-21T17:15:30.524039Z",
     "iopub.status.busy": "2025-06-21T17:15:30.523345Z",
     "iopub.status.idle": "2025-06-21T17:15:30.527385Z",
     "shell.execute_reply": "2025-06-21T17:15:30.526634Z"
    },
    "papermill": {
     "duration": 0.012031,
     "end_time": "2025-06-21T17:15:30.528718",
     "exception": false,
     "start_time": "2025-06-21T17:15:30.516687",
     "status": "completed"
    },
    "tags": []
   },
   "outputs": [],
   "source": [
    "from sklearn.metrics import r2_score"
   ]
  },
  {
   "cell_type": "code",
   "execution_count": 24,
   "id": "0ba11159",
   "metadata": {
    "execution": {
     "iopub.execute_input": "2025-06-21T17:15:30.541824Z",
     "iopub.status.busy": "2025-06-21T17:15:30.541202Z",
     "iopub.status.idle": "2025-06-21T17:15:30.547442Z",
     "shell.execute_reply": "2025-06-21T17:15:30.546647Z"
    },
    "papermill": {
     "duration": 0.014101,
     "end_time": "2025-06-21T17:15:30.548668",
     "exception": false,
     "start_time": "2025-06-21T17:15:30.534567",
     "status": "completed"
    },
    "tags": []
   },
   "outputs": [
    {
     "data": {
      "text/plain": [
       "0.9476937346470595"
      ]
     },
     "execution_count": 24,
     "metadata": {},
     "output_type": "execute_result"
    }
   ],
   "source": [
    "r2_score(y_test, y_pred)"
   ]
  },
  {
   "cell_type": "code",
   "execution_count": 25,
   "id": "876a66ea",
   "metadata": {
    "execution": {
     "iopub.execute_input": "2025-06-21T17:15:30.561760Z",
     "iopub.status.busy": "2025-06-21T17:15:30.561448Z",
     "iopub.status.idle": "2025-06-21T17:15:30.565599Z",
     "shell.execute_reply": "2025-06-21T17:15:30.564847Z"
    },
    "papermill": {
     "duration": 0.012373,
     "end_time": "2025-06-21T17:15:30.566934",
     "exception": false,
     "start_time": "2025-06-21T17:15:30.554561",
     "status": "completed"
    },
    "tags": []
   },
   "outputs": [],
   "source": [
    "from sklearn.preprocessing import PolynomialFeatures\n",
    "from sklearn.linear_model import LinearRegression"
   ]
  },
  {
   "cell_type": "code",
   "execution_count": 26,
   "id": "3c520aba",
   "metadata": {
    "execution": {
     "iopub.execute_input": "2025-06-21T17:15:30.581660Z",
     "iopub.status.busy": "2025-06-21T17:15:30.581356Z",
     "iopub.status.idle": "2025-06-21T17:15:30.586058Z",
     "shell.execute_reply": "2025-06-21T17:15:30.585223Z"
    },
    "papermill": {
     "duration": 0.013493,
     "end_time": "2025-06-21T17:15:30.587550",
     "exception": false,
     "start_time": "2025-06-21T17:15:30.574057",
     "status": "completed"
    },
    "tags": []
   },
   "outputs": [],
   "source": [
    "poly = PolynomialFeatures(degree=1)"
   ]
  },
  {
   "cell_type": "code",
   "execution_count": 27,
   "id": "ac5c2114",
   "metadata": {
    "execution": {
     "iopub.execute_input": "2025-06-21T17:15:30.600820Z",
     "iopub.status.busy": "2025-06-21T17:15:30.600518Z",
     "iopub.status.idle": "2025-06-21T17:15:30.606441Z",
     "shell.execute_reply": "2025-06-21T17:15:30.605485Z"
    },
    "papermill": {
     "duration": 0.014444,
     "end_time": "2025-06-21T17:15:30.607949",
     "exception": false,
     "start_time": "2025-06-21T17:15:30.593505",
     "status": "completed"
    },
    "tags": []
   },
   "outputs": [],
   "source": [
    "X_train_poly = poly.fit_transform(X_train_scaled)"
   ]
  },
  {
   "cell_type": "code",
   "execution_count": 28,
   "id": "53c1e63c",
   "metadata": {
    "execution": {
     "iopub.execute_input": "2025-06-21T17:15:30.621257Z",
     "iopub.status.busy": "2025-06-21T17:15:30.620874Z",
     "iopub.status.idle": "2025-06-21T17:15:30.626526Z",
     "shell.execute_reply": "2025-06-21T17:15:30.625318Z"
    },
    "papermill": {
     "duration": 0.014174,
     "end_time": "2025-06-21T17:15:30.628200",
     "exception": false,
     "start_time": "2025-06-21T17:15:30.614026",
     "status": "completed"
    },
    "tags": []
   },
   "outputs": [],
   "source": [
    "X_test_poly = poly.transform(X_test_scaled)"
   ]
  },
  {
   "cell_type": "code",
   "execution_count": 29,
   "id": "0c73b5d5",
   "metadata": {
    "execution": {
     "iopub.execute_input": "2025-06-21T17:15:30.641238Z",
     "iopub.status.busy": "2025-06-21T17:15:30.640863Z",
     "iopub.status.idle": "2025-06-21T17:15:30.644998Z",
     "shell.execute_reply": "2025-06-21T17:15:30.644122Z"
    },
    "papermill": {
     "duration": 0.012324,
     "end_time": "2025-06-21T17:15:30.646560",
     "exception": false,
     "start_time": "2025-06-21T17:15:30.634236",
     "status": "completed"
    },
    "tags": []
   },
   "outputs": [],
   "source": [
    "lr = LinearRegression()"
   ]
  },
  {
   "cell_type": "code",
   "execution_count": 30,
   "id": "001c926f",
   "metadata": {
    "execution": {
     "iopub.execute_input": "2025-06-21T17:15:30.659571Z",
     "iopub.status.busy": "2025-06-21T17:15:30.659266Z",
     "iopub.status.idle": "2025-06-21T17:15:30.697333Z",
     "shell.execute_reply": "2025-06-21T17:15:30.696448Z"
    },
    "papermill": {
     "duration": 0.046403,
     "end_time": "2025-06-21T17:15:30.698853",
     "exception": false,
     "start_time": "2025-06-21T17:15:30.652450",
     "status": "completed"
    },
    "tags": []
   },
   "outputs": [
    {
     "data": {
      "text/html": [
       "<style>#sk-container-id-2 {color: black;background-color: white;}#sk-container-id-2 pre{padding: 0;}#sk-container-id-2 div.sk-toggleable {background-color: white;}#sk-container-id-2 label.sk-toggleable__label {cursor: pointer;display: block;width: 100%;margin-bottom: 0;padding: 0.3em;box-sizing: border-box;text-align: center;}#sk-container-id-2 label.sk-toggleable__label-arrow:before {content: \"▸\";float: left;margin-right: 0.25em;color: #696969;}#sk-container-id-2 label.sk-toggleable__label-arrow:hover:before {color: black;}#sk-container-id-2 div.sk-estimator:hover label.sk-toggleable__label-arrow:before {color: black;}#sk-container-id-2 div.sk-toggleable__content {max-height: 0;max-width: 0;overflow: hidden;text-align: left;background-color: #f0f8ff;}#sk-container-id-2 div.sk-toggleable__content pre {margin: 0.2em;color: black;border-radius: 0.25em;background-color: #f0f8ff;}#sk-container-id-2 input.sk-toggleable__control:checked~div.sk-toggleable__content {max-height: 200px;max-width: 100%;overflow: auto;}#sk-container-id-2 input.sk-toggleable__control:checked~label.sk-toggleable__label-arrow:before {content: \"▾\";}#sk-container-id-2 div.sk-estimator input.sk-toggleable__control:checked~label.sk-toggleable__label {background-color: #d4ebff;}#sk-container-id-2 div.sk-label input.sk-toggleable__control:checked~label.sk-toggleable__label {background-color: #d4ebff;}#sk-container-id-2 input.sk-hidden--visually {border: 0;clip: rect(1px 1px 1px 1px);clip: rect(1px, 1px, 1px, 1px);height: 1px;margin: -1px;overflow: hidden;padding: 0;position: absolute;width: 1px;}#sk-container-id-2 div.sk-estimator {font-family: monospace;background-color: #f0f8ff;border: 1px dotted black;border-radius: 0.25em;box-sizing: border-box;margin-bottom: 0.5em;}#sk-container-id-2 div.sk-estimator:hover {background-color: #d4ebff;}#sk-container-id-2 div.sk-parallel-item::after {content: \"\";width: 100%;border-bottom: 1px solid gray;flex-grow: 1;}#sk-container-id-2 div.sk-label:hover label.sk-toggleable__label {background-color: #d4ebff;}#sk-container-id-2 div.sk-serial::before {content: \"\";position: absolute;border-left: 1px solid gray;box-sizing: border-box;top: 0;bottom: 0;left: 50%;z-index: 0;}#sk-container-id-2 div.sk-serial {display: flex;flex-direction: column;align-items: center;background-color: white;padding-right: 0.2em;padding-left: 0.2em;position: relative;}#sk-container-id-2 div.sk-item {position: relative;z-index: 1;}#sk-container-id-2 div.sk-parallel {display: flex;align-items: stretch;justify-content: center;background-color: white;position: relative;}#sk-container-id-2 div.sk-item::before, #sk-container-id-2 div.sk-parallel-item::before {content: \"\";position: absolute;border-left: 1px solid gray;box-sizing: border-box;top: 0;bottom: 0;left: 50%;z-index: -1;}#sk-container-id-2 div.sk-parallel-item {display: flex;flex-direction: column;z-index: 1;position: relative;background-color: white;}#sk-container-id-2 div.sk-parallel-item:first-child::after {align-self: flex-end;width: 50%;}#sk-container-id-2 div.sk-parallel-item:last-child::after {align-self: flex-start;width: 50%;}#sk-container-id-2 div.sk-parallel-item:only-child::after {width: 0;}#sk-container-id-2 div.sk-dashed-wrapped {border: 1px dashed gray;margin: 0 0.4em 0.5em 0.4em;box-sizing: border-box;padding-bottom: 0.4em;background-color: white;}#sk-container-id-2 div.sk-label label {font-family: monospace;font-weight: bold;display: inline-block;line-height: 1.2em;}#sk-container-id-2 div.sk-label-container {text-align: center;}#sk-container-id-2 div.sk-container {/* jupyter's `normalize.less` sets `[hidden] { display: none; }` but bootstrap.min.css set `[hidden] { display: none !important; }` so we also need the `!important` here to be able to override the default hidden behavior on the sphinx rendered scikit-learn.org. See: https://github.com/scikit-learn/scikit-learn/issues/21755 */display: inline-block !important;position: relative;}#sk-container-id-2 div.sk-text-repr-fallback {display: none;}</style><div id=\"sk-container-id-2\" class=\"sk-top-container\"><div class=\"sk-text-repr-fallback\"><pre>LinearRegression()</pre><b>In a Jupyter environment, please rerun this cell to show the HTML representation or trust the notebook. <br />On GitHub, the HTML representation is unable to render, please try loading this page with nbviewer.org.</b></div><div class=\"sk-container\" hidden><div class=\"sk-item\"><div class=\"sk-estimator sk-toggleable\"><input class=\"sk-toggleable__control sk-hidden--visually\" id=\"sk-estimator-id-2\" type=\"checkbox\" checked><label for=\"sk-estimator-id-2\" class=\"sk-toggleable__label sk-toggleable__label-arrow\">LinearRegression</label><div class=\"sk-toggleable__content\"><pre>LinearRegression()</pre></div></div></div></div></div>"
      ],
      "text/plain": [
       "LinearRegression()"
      ]
     },
     "execution_count": 30,
     "metadata": {},
     "output_type": "execute_result"
    }
   ],
   "source": [
    "lr.fit(X_train_poly, y_train)"
   ]
  },
  {
   "cell_type": "code",
   "execution_count": 31,
   "id": "920d002b",
   "metadata": {
    "execution": {
     "iopub.execute_input": "2025-06-21T17:15:30.718094Z",
     "iopub.status.busy": "2025-06-21T17:15:30.717506Z",
     "iopub.status.idle": "2025-06-21T17:15:30.722200Z",
     "shell.execute_reply": "2025-06-21T17:15:30.721374Z"
    },
    "papermill": {
     "duration": 0.014883,
     "end_time": "2025-06-21T17:15:30.723649",
     "exception": false,
     "start_time": "2025-06-21T17:15:30.708766",
     "status": "completed"
    },
    "tags": []
   },
   "outputs": [],
   "source": [
    "y_pred1 = lr.predict(X_test_poly)"
   ]
  },
  {
   "cell_type": "code",
   "execution_count": 32,
   "id": "006cf033",
   "metadata": {
    "execution": {
     "iopub.execute_input": "2025-06-21T17:15:30.736847Z",
     "iopub.status.busy": "2025-06-21T17:15:30.736557Z",
     "iopub.status.idle": "2025-06-21T17:15:30.743437Z",
     "shell.execute_reply": "2025-06-21T17:15:30.742606Z"
    },
    "papermill": {
     "duration": 0.015157,
     "end_time": "2025-06-21T17:15:30.744817",
     "exception": false,
     "start_time": "2025-06-21T17:15:30.729660",
     "status": "completed"
    },
    "tags": []
   },
   "outputs": [
    {
     "data": {
      "text/plain": [
       "0.9669325160624309"
      ]
     },
     "execution_count": 32,
     "metadata": {},
     "output_type": "execute_result"
    }
   ],
   "source": [
    "r2_score(y_test, y_pred1)"
   ]
  },
  {
   "cell_type": "code",
   "execution_count": null,
   "id": "24ca3d5e",
   "metadata": {
    "papermill": {
     "duration": 0.005761,
     "end_time": "2025-06-21T17:15:30.756676",
     "exception": false,
     "start_time": "2025-06-21T17:15:30.750915",
     "status": "completed"
    },
    "tags": []
   },
   "outputs": [],
   "source": []
  }
 ],
 "metadata": {
  "kaggle": {
   "accelerator": "none",
   "dataSources": [
    {
     "datasetId": 6512323,
     "sourceId": 10522392,
     "sourceType": "datasetVersion"
    }
   ],
   "dockerImageVersionId": 31040,
   "isGpuEnabled": false,
   "isInternetEnabled": true,
   "language": "python",
   "sourceType": "notebook"
  },
  "kernelspec": {
   "display_name": "Python 3",
   "language": "python",
   "name": "python3"
  },
  "language_info": {
   "codemirror_mode": {
    "name": "ipython",
    "version": 3
   },
   "file_extension": ".py",
   "mimetype": "text/x-python",
   "name": "python",
   "nbconvert_exporter": "python",
   "pygments_lexer": "ipython3",
   "version": "3.11.11"
  },
  "papermill": {
   "default_parameters": {},
   "duration": 9.835739,
   "end_time": "2025-06-21T17:15:31.482958",
   "environment_variables": {},
   "exception": null,
   "input_path": "__notebook__.ipynb",
   "output_path": "__notebook__.ipynb",
   "parameters": {},
   "start_time": "2025-06-21T17:15:21.647219",
   "version": "2.6.0"
  }
 },
 "nbformat": 4,
 "nbformat_minor": 5
}
